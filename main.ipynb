{
 "cells": [
  {
   "cell_type": "markdown",
   "metadata": {},
   "source": [
    "**Apple stock price prediction using LSTM**\n",
    "\n",
    "In this script, I used Apple stock price data from 2012 to 2019.\n",
    "Goal is to predict next days close price given 30 previous days'\n",
    "\n"
   ]
  },
  {
   "cell_type": "code",
   "execution_count": 1,
   "metadata": {},
   "outputs": [],
   "source": [
    "# import necessary modules\n",
    "import pandas as pd\n",
    "import numpy as np\n",
    "import matplotlib.pyplot as plt\n",
    "from datetime import datetime\n",
    "import pandas_datareader as web\n",
    "from sklearn.preprocessing import MinMaxScaler \n",
    "from keras.models import Sequential\n",
    "from keras.layers import LSTM, Dense\n",
    "from sklearn.metrics import mean_squared_error"
   ]
  },
  {
   "cell_type": "code",
   "execution_count": 2,
   "metadata": {},
   "outputs": [],
   "source": [
    "#class for importing, manipulating, and storing data\n",
    "class Data:\n",
    "    df = pd.DataFrame()\n",
    "    x_train_data, y_train_data = [], []\n",
    "    x_test_data, y_test_data = [], []\n",
    "    scaler = MinMaxScaler(feature_range=(0,1))\n",
    "    scaled_data = []\n",
    "    train_ratio = 0.8\n",
    "    train_size = 0\n",
    "    \n",
    "    def importdf(self):\n",
    "        # import Apple stock data using pandas_datareader\n",
    "        self.df = web.DataReader('AAPL', data_source='yahoo', start='2012-01-01', end='2019-12-17') \n",
    "    \n",
    "    def display(self, rows=10):\n",
    "        print(self.df.head(rows))\n",
    "        \n",
    "    def preprocess(self):\n",
    "        #drop columns other than Date and Close\n",
    "        self.df.reset_index(inplace=True)\n",
    "        self.df.drop(['High', 'Low', 'Open', 'Volume', 'Adj Close'], axis=1, inplace= True)\n",
    "        #turn Date column to time\n",
    "        self.df[\"Date\"]=pd.to_datetime(self.df.Date,format=\"%Y-%m-%d\")       \n",
    "        \n",
    "    def plot(self, end = 120, start = 0):\n",
    "        #plot prices between given dates\n",
    "        plt.plot(self.df.Close[start:end])\n",
    "        \n",
    "    def train_test_split(self):\n",
    "        #create train and test data\n",
    "        self.scale()\n",
    "        self.train_size = int(self.train_ratio * len(self.scaled_data))\n",
    "        #for prediction use previous 30 days\n",
    "        for i in range(30,self.train_size):\n",
    "            self.x_train_data.append(self.scaled_data[i-30:i,0])\n",
    "            self.y_train_data.append(self.scaled_data[i,0])\n",
    "        for i in range(self.train_size, len(self.scaled_data)):\n",
    "            self.x_test_data.append(self.scaled_data[i-30:i,0])\n",
    "            self.y_test_data.append(self.scaled_data[i,0])\n",
    "        #convert to numpy array\n",
    "        self.x_train_data, self.y_train_data = np.array(self.x_train_data), np.array(self.y_train_data)\n",
    "        self.x_test_data, self.y_test_data = np.array(self.x_test_data), np.array(self.y_test_data)\n",
    "        #reshape\n",
    "        self.x_train_data = np.reshape(self.x_train_data,(self.x_train_data.shape[0],self.x_train_data.shape[1],1))\n",
    "        self.x_test_data = np.reshape(self.x_test_data,(self.x_test_data.shape[0], self.x_test_data.shape[1],1))\n",
    "        \n",
    "    def scale(self):\n",
    "        #scale prices to 0,1 range\n",
    "        final_dataset = self.df.Close.values\n",
    "        self.scaled_data = self.scaler.fit_transform(final_dataset.reshape(-1, 1))\n",
    "    \n",
    "    def de_scale(self, data):\n",
    "        #de-scale given data from 0-1 to original scale\n",
    "        descaled = self.scaler.inverse_transform(data)\n",
    "        return descaled"
   ]
  },
  {
   "cell_type": "code",
   "execution_count": 3,
   "metadata": {},
   "outputs": [],
   "source": [
    "#predictor class for creation, training and usage of model\n",
    "class predictor:\n",
    "    model = Sequential()\n",
    "    \n",
    "    def create_model(self, shape, units=50):\n",
    "        self.model = Sequential()\n",
    "        #add a LSTM and a Dense unit      \n",
    "        self.model.add(LSTM(units=units, input_shape=shape))\n",
    "        self.model.add(Dense(1))\n",
    "        self.model.compile(loss='mean_squared_error')\n",
    "        \n",
    "    def fit_lstm(self, x, y, epochs=1, batch_size=1):\n",
    "        #fit to train set using loss function \"mean squared error\"\n",
    "        self.model.fit(x, y, epochs=epochs, batch_size=batch_size, verbose=3)\n",
    "    \n",
    "    def predict(self, x):\n",
    "        predictions = self.model.predict(x)\n",
    "        return predictions\n",
    "                  \n",
    "    def calculate_error(self, x, y):\n",
    "        predictions = self.predict(x)        \n",
    "        error = mean_squared_error(y, predictions)\n",
    "        return error\n",
    "    \n",
    "    def unit_search(self, x, y, units):\n",
    "        history = list()\n",
    "        for i in units:\n",
    "            self.create_model(units = i, shape=(x.shape[1],1))\n",
    "            self.fit_lstm(x, y)\n",
    "            error = self.calculate_error(x, y)\n",
    "            history.append(error)\n",
    "        plt.plot(units, history)\n",
    "        return units[history.index(min(history))]"
   ]
  },
  {
   "cell_type": "code",
   "execution_count": 4,
   "metadata": {},
   "outputs": [],
   "source": [
    "#create data object, import data and preprocess it\n",
    "data= Data()\n",
    "data.importdf()\n",
    "data.preprocess()\n",
    "data.train_test_split()"
   ]
  },
  {
   "cell_type": "code",
   "execution_count": 5,
   "metadata": {},
   "outputs": [
    {
     "name": "stdout",
     "output_type": "stream",
     "text": [
      "        Date      Close\n",
      "0 2012-01-03  14.686786\n",
      "1 2012-01-04  14.765714\n",
      "2 2012-01-05  14.929643\n",
      "3 2012-01-06  15.085714\n",
      "4 2012-01-09  15.061786\n"
     ]
    }
   ],
   "source": [
    "data.display(5)"
   ]
  },
  {
   "cell_type": "code",
   "execution_count": 6,
   "metadata": {},
   "outputs": [
    {
     "data": {
      "image/png": "[encoded data removed]",
      "text/plain": [
       "<Figure size 432x288 with 1 Axes>"
      ]
     },
     "metadata": {
      "needs_background": "light"
     },
     "output_type": "display_data"
    }
   ],
   "source": [
    "data.plot(240)"
   ]
  },
  {
   "cell_type": "code",
   "execution_count": 7,
   "metadata": {},
   "outputs": [],
   "source": [
    "#create model object\n",
    "modellstm = predictor()"
   ]
  },
  {
   "cell_type": "code",
   "execution_count": 8,
   "metadata": {},
   "outputs": [
    {
     "data": {
      "text/plain": [
       "60"
      ]
     },
     "execution_count": 8,
     "metadata": {},
     "output_type": "execute_result"
    },
    {
     "data": {
      "image/png": "[encoded data removed]",
      "text/plain": [
       "<Figure size 432x288 with 1 Axes>"
      ]
     },
     "metadata": {
      "needs_background": "light"
     },
     "output_type": "display_data"
    }
   ],
   "source": [
    "#Search for a optimum number of units for LSTM\n",
    "modellstm.unit_search(data.x_train_data, data.y_train_data, [30, 40, 50, 60, 70])"
   ]
  },
  {
   "cell_type": "code",
   "execution_count": 9,
   "metadata": {},
   "outputs": [
    {
     "name": "stdout",
     "output_type": "stream",
     "text": [
      "Epoch 1/3\n",
      "Epoch 2/3\n",
      "Epoch 3/3\n"
     ]
    }
   ],
   "source": [
    "#From the search result found that the units=60 is the optimum point\n",
    "#Train the model using this\n",
    "\n",
    "modellstm.create_model((data.x_train_data.shape[1],1), 60)\n",
    "\n",
    "modellstm.fit_lstm(data.x_train_data, data.y_train_data, epochs = 3)\n",
    "\n",
    "predictions = modellstm.predict(data.x_test_data)\n",
    "\n",
    "descaled_pred = data.de_scale(predictions)"
   ]
  },
  {
   "cell_type": "code",
   "execution_count": 10,
   "metadata": {},
   "outputs": [
    {
     "data": {
      "text/plain": [
       "[<matplotlib.lines.Line2D at 0x1caadb7ad30>,\n",
       " <matplotlib.lines.Line2D at 0x1caadb7a5b0>]"
      ]
     },
     "execution_count": 10,
     "metadata": {},
     "output_type": "execute_result"
    },
    {
     "data": {
      "image/png": "[encoded data removed]",
      "text/plain": [
       "<Figure size 432x288 with 1 Axes>"
      ]
     },
     "metadata": {
      "needs_background": "light"
     },
     "output_type": "display_data"
    }
   ],
   "source": [
    "#Divide dataframe to test and train set as previous division\n",
    "train = data.df.set_index('Date')[0: data.train_size]\n",
    "test = data.df.set_index('Date')[data.train_size:]\n",
    "\n",
    "#add predictions to test dataframe\n",
    "test['Predicted'] = descaled_pred\n",
    "\n",
    "#plot train and test close values\n",
    "#For train plot real values as blue\n",
    "#for test plot real values as orange and predicted values as green\n",
    "plt.plot(train)\n",
    "plt.plot(test[['Close', 'Predicted']])"
   ]
  }
 ],
 "metadata": {
  "kernelspec": {
   "display_name": "Python 3",
   "language": "python",
   "name": "python3"
  },
  "language_info": {
   "codemirror_mode": {
    "name": "ipython",
    "version": 3
   },
   "file_extension": ".py",
   "mimetype": "text/x-python",
   "name": "python",
   "nbconvert_exporter": "python",
   "pygments_lexer": "ipython3",
   "version": "3.8.5"
  }
 },
 "nbformat": 4,
 "nbformat_minor": 4
}
